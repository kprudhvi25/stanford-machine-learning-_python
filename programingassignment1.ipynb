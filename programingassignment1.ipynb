{
 "cells": [
  {
   "cell_type": "code",
   "execution_count": 261,
   "metadata": {},
   "outputs": [],
   "source": [
    "import numpy as np\n",
    "import matplotlib.pyplot as plt \n",
    "import pandas as pd\n",
    "#computing the cost function \n",
    "def ComputeCost(X,y,theta):\n",
    "    m=len(X)\n",
    "    J=0\n",
    "    J=sum(pow(np.dot(X,theta)-y,2))/(2*m)\n",
    "    return J\n",
    "# gradientDescent function will caluclates the theta values neaded \n",
    "def GradientDescent(X, y, theta1, alpha, num_iters):\n",
    "    m=len(y)\n",
    "    J_history = np.zeros(num_iters,dtype=int)\n",
    "    for i in range(0,num_iters):\n",
    "        error=np.dot(X,theta1)-y\n",
    "        temp0=theta1[0]-((alpha/m)*sum(error))\n",
    "        temp1=theta1[1]-((alpha/m)*sum(error*x))\n",
    "        theta1=np.array([[temp0.item(0)],[temp1.item(0)]])\n",
    "        J_history[i] = ComputeCost(X, y, theta)\n",
    "    return theta1\n",
    "    "
   ]
  },
  {
   "cell_type": "code",
   "execution_count": 262,
   "metadata": {},
   "outputs": [],
   "source": []
  },
  {
   "cell_type": "code",
   "execution_count": 263,
   "metadata": {},
   "outputs": [],
   "source": []
  },
  {
   "cell_type": "code",
   "execution_count": 264,
   "metadata": {},
   "outputs": [],
   "source": [
    "#getting the data from file ex1data1.txt and loading it .\n",
    "#ex1data1.txt contains houseprice data with x  and y as variables \n",
    "X=[]\n",
    "y=[]\n",
    "data = np.genfromtxt('ex1data1.txt', delimiter = ',')\n",
    "for i in range(0,len(data)):\n",
    "    X.append(data[i][0])\n",
    "    y.append(data[i][1])\n",
    "vX=np.array(X)  \n",
    "y=np.array(y)\n",
    "\n"
   ]
  },
  {
   "cell_type": "code",
   "execution_count": 265,
   "metadata": {},
   "outputs": [
    {
     "data": {
      "image/png": "[encoded data removed]",
      "text/plain": [
       "<Figure size 432x288 with 1 Axes>"
      ]
     },
     "metadata": {
      "needs_background": "light"
     },
     "output_type": "display_data"
    }
   ],
   "source": [
    "#ploting the data \n",
    "fig=plt.figure()\n",
    "plt.scatter(X, y,10)\n",
    "fig.suptitle('housingPrice', fontsize=20)\n",
    "plt.xlabel('Population of City in 10,000s', fontsize=18)\n",
    "plt.ylabel('Profit in $10,000s', fontsize=16)\n",
    "plt.show()"
   ]
  },
  {
   "cell_type": "code",
   "execution_count": 266,
   "metadata": {
    "scrolled": true
   },
   "outputs": [
    {
     "name": "stdout",
     "output_type": "stream",
     "text": [
      "\n",
      "Testing the cost function ...\n",
      "\n",
      "With theta = [0 ; 0]\n",
      "Cost computed = %f\n",
      " [32.07273388]\n",
      "Expected cost value (approx) 32.07\n",
      "\n",
      "\n",
      "With theta = [-1 ; 2]\n",
      "Cost computed = %f\n",
      " [54.24245508]\n",
      "Expected cost value (approx) 54.24\n",
      "\n",
      "Theta found by gradient descent:\n",
      "\n",
      "[[-3.63029144]\n",
      " [ 1.16636235]]\n"
     ]
    }
   ],
   "source": [
    "x=vX.reshape(97,1)\n",
    "c=np.ones(97,dtype=int)\n",
    "c1=c.reshape(97,1)\n",
    "vX=np.column_stack((c1,x))\n",
    "vY=y.reshape(97,1)\n",
    "Y=vY\n",
    "theta=np.zeros(2,dtype=int)\n",
    "theta=theta.reshape(2,1)\n",
    "iterations = 1500;\n",
    "alpha = 0.01;\n",
    "print('\\nTesting the cost function ...\\n')\n",
    "J = ComputeCost(vX, vY, theta)\n",
    "print('With theta = [0 ; 0]\\nCost computed = %f\\n', J)\n",
    "print('Expected cost value (approx) 32.07\\n')\n",
    "J = ComputeCost(vX, vY,np.array([[-1], [2]]) )\n",
    "print('\\nWith theta = [-1 ; 2]\\nCost computed = %f\\n', J)\n",
    "print('Expected cost value (approx) 54.24\\n')\n",
    "\n",
    "theta=GradientDescent(vX, vY, theta, alpha, iterations)\n",
    "#print('Theta found by gradient descent:\\n')\n",
    "print('Theta found by gradient descent:\\n');\n",
    "print(theta)\n",
    "#print('Expected theta values (approx)\\n');\n",
    "#print(' -3.6303\\n  1.1664\\n\\n');\n"
   ]
  },
  {
   "cell_type": "code",
   "execution_count": 267,
   "metadata": {
    "scrolled": true
   },
   "outputs": [
    {
     "data": {
      "image/png": "[encoded data removed]",
      "text/plain": [
       "<Figure size 432x288 with 1 Axes>"
      ]
     },
     "execution_count": 267,
     "metadata": {},
     "output_type": "execute_result"
    }
   ],
   "source": [
    "fig."
   ]
  },
  {
   "cell_type": "code",
   "execution_count": null,
   "metadata": {},
   "outputs": [],
   "source": []
  },
  {
   "cell_type": "code",
   "execution_count": 239,
   "metadata": {},
   "outputs": [],
   "source": []
  },
  {
   "cell_type": "code",
   "execution_count": null,
   "metadata": {},
   "outputs": [],
   "source": []
  },
  {
   "cell_type": "code",
   "execution_count": null,
   "metadata": {},
   "outputs": [],
   "source": []
  },
  {
   "cell_type": "code",
   "execution_count": null,
   "metadata": {
    "scrolled": true
   },
   "outputs": [],
   "source": []
  },
  {
   "cell_type": "code",
   "execution_count": null,
   "metadata": {},
   "outputs": [],
   "source": []
  },
  {
   "cell_type": "code",
   "execution_count": null,
   "metadata": {},
   "outputs": [],
   "source": []
  },
  {
   "cell_type": "code",
   "execution_count": null,
   "metadata": {},
   "outputs": [],
   "source": [
    "\n"
   ]
  },
  {
   "cell_type": "code",
   "execution_count": null,
   "metadata": {},
   "outputs": [],
   "source": []
  },
  {
   "cell_type": "code",
   "execution_count": null,
   "metadata": {},
   "outputs": [],
   "source": []
  },
  {
   "cell_type": "code",
   "execution_count": null,
   "metadata": {},
   "outputs": [],
   "source": []
  },
  {
   "cell_type": "code",
   "execution_count": null,
   "metadata": {},
   "outputs": [],
   "source": []
  },
  {
   "cell_type": "code",
   "execution_count": null,
   "metadata": {},
   "outputs": [],
   "source": []
  }
 ],
 "metadata": {
  "kernelspec": {
   "display_name": "Python 3",
   "language": "python",
   "name": "python3"
  },
  "language_info": {
   "codemirror_mode": {
    "name": "ipython",
    "version": 3
   },
   "file_extension": ".py",
   "mimetype": "text/x-python",
   "name": "python",
   "nbconvert_exporter": "python",
   "pygments_lexer": "ipython3",
   "version": "3.7.1"
  }
 },
 "nbformat": 4,
 "nbformat_minor": 2
}
